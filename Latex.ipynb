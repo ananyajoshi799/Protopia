{
  "nbformat": 4,
  "nbformat_minor": 0,
  "metadata": {
    "colab": {
      "provenance": [],
      "include_colab_link": true
    },
    "kernelspec": {
      "name": "python3",
      "display_name": "Python 3"
    },
    "language_info": {
      "name": "python"
    }
  },
  "cells": [
    {
      "cell_type": "markdown",
      "metadata": {
        "id": "view-in-github",
        "colab_type": "text"
      },
      "source": [
        "<a href=\"https://colab.research.google.com/github/ananyajoshi799/Protopia/blob/main/Latex_ipyb.ipynb\" target=\"_parent\"><img src=\"https://colab.research.google.com/assets/colab-badge.svg\" alt=\"Open In Colab\"/></a>"
      ]
    },
    {
      "cell_type": "markdown",
      "source": [
        "# This is a practice for LaTex. The work is replica of paper by Jin, Lu and Su from the Journal of Econometrics."
      ],
      "metadata": {
        "id": "9-xFRLikKBdX"
      }
    },
    {
      "cell_type": "markdown",
      "source": [
        "## Three-dimensional heterogeneous panel data models with multi-level interactive fixed effects\n",
        "\n",
        "$\\underline{Sainan \\space Jin}^{a \\space b}, \\underline{Xun \\space Lu}^{c},\\underline{Liangjun \\space Su^{b}}$  \n",
        "\n",
        "$\\rule{420pt}{1.5pt}$\n",
        "\n",
        "##Abstract\n",
        "\n",
        "We consider a three-dimensional (3D) panel data model with heterogeneous slope coefficients and multi-level interactive fixed effects consisting of latent global factors and two types of local factors. Our model nests many commonly used 3D panel data models. We propse an iterative estimation procedure that relies on initial consistent estimators obtained through a novel defactored approach. We study the asymptotic properties of our estimators and show that our iterative estimators of the slopre coefficients are \"oracle efficient\" in the sense that they are asymtotically equivalent to those when the factors were known. Some specification testing issues are also considered. Monte Carlo simulations demonstrate that our estimators and tests perform well in finite samples. We apply our new method to the international trade dataset.\n",
        "\n",
        "$\\rule{420 pt}{1.5pt}$\n",
        "\n",
        "## Introduction\n",
        "\n",
        "Multi-dimentional panel data have been widely used in empirical research in many fields of economics, such as international trade, transportation, labour, and migration, among others (see Matyas,2017 for a review). So far, most multi-dimensional panel data models adopt simple additive fixed-effects specifications and the models can be easily estimated by within transformation or least sqaures dummy variable (LSDV) methods. Lu et al.(2021) consider seven most commonlu used fixed-effects specifications for three-dimentional (3D) panel data models. However, as well recognized in the literature of traditional two-dimentional (2D) panel data modles, interactive fixed effects(i.e., factors structures) are more flexible than assitive fized effects and are able to capture more flexible unobervable heterogeneity and incorporate more cross-sectional dependence (see, Persaran, 2006 and Bai, 2009). This paper propses a 3D panel data model with multi-level interactive fixed effects(IFEs) through a general 3D factor structure with latent global factors and local factors.\n",
        "\n",
        "Specifically, we first consider the following dynamic 3D model:\n",
        "\n",
        "$ y_{ijt} = \\rho^0_{ij} y_{ij,t-1} \\space + \\beta^{0'}_{ij}x_{ijt} + λ^{(0)'}_{ij}f^{(0)}_t + λ^{(2)'}_{ij} f^{(2)}_{jt} + u_{ijt}, \\space i \\space ∈ [N], j \\in ℳ_{i}, t ∈ [T]$,\n",
        "\n",
        "where we allow only one lagged depended variable $y_{ij,t-1}$ to appear on the right-hand side of the above equaiton, $x_{xjt}$ is a K x 1 vector of observable weakly exogebous regressor, $\\rho^0_{ij}$ and $β^0_{ij}$ denote the true values of the corresponding slope coefficients, $f^{(0)}_t$ is an $r^{(0)}$ x 1 vector of unobservable local factors that depend on $i$ and $j$, respectively, $λ^{(0)}_{ij}$, $λ^{(1)}_{ij}$, and $\\lambda^{(2)}_{ij}$ are he correspinding factor loadings, $ u_{ijt}$ is the idiosyncratic errors, and [a] = {1,2,....,a} for any positive interger a. Let $ ℳ_{i} = |ℳ_i|$, the cardinality of the set $ ℳ_i \\subset [M]$, where M = max ${M_i, i ∈ [N]} $. Note that we allow for unbalanced panels here along the two cross-sectional dimensions. We denote the factor strcuture as $c_{ijt} = λ^{(0)'}_{ij} f^{(0)}_{t} +  λ^{(1)'}_{it} f^{(1)}_{ij} + λ^{(2)'}_{ij} f^{(2)}_{jt}.$ We allow the regressor $x_{ijt}$ to be correlated with the unobservable factors, therefore $c_{ijt}$ can be thought of as multi-level IFEs. For notational simplicity, we only include one lagged dependent variable in the dynamic model. However, our module can be easily extended to the multiple lag case. Obviously, we also allow static models where  "
      ],
      "metadata": {
        "id": "sBK-PhxNWVOd"
      }
    }
  ]
}
